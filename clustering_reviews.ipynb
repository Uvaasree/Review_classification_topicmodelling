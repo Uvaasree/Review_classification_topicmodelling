{
 "cells": [
  {
   "cell_type": "code",
   "execution_count": null,
   "metadata": {
    "id": "PNX5piFW1SiJ"
   },
   "outputs": [],
   "source": [
    "import pandas as pd\n",
    "df= pd.read_csv('/content/drive/MyDrive/final_project/review_data.csv')\n"
   ]
  },
  {
   "cell_type": "code",
   "execution_count": null,
   "metadata": {
    "colab": {
     "base_uri": "https://localhost:8080/",
     "height": 423
    },
    "executionInfo": {
     "elapsed": 2458,
     "status": "ok",
     "timestamp": 1732549385425,
     "user": {
      "displayName": "msc mat",
      "userId": "05454935897048856754"
     },
     "user_tz": -330
    },
    "id": "rCbLOiYq2Vls",
    "outputId": "48970dab-17f7-4abe-d457-f7a0cf93237a"
   },
   "outputs": [
    {
     "data": {
      "application/vnd.google.colaboratory.intrinsic+json": {
       "summary": "{\n  \"name\": \"df\",\n  \"rows\": 40432,\n  \"fields\": [\n    {\n      \"column\": \"category\",\n      \"properties\": {\n        \"dtype\": \"category\",\n        \"num_unique_values\": 10,\n        \"samples\": [\n          \"Toys_and_Games_5\",\n          \"Sports_and_Outdoors_5\",\n          \"Pet_Supplies_5\"\n        ],\n        \"semantic_type\": \"\",\n        \"description\": \"\"\n      }\n    },\n    {\n      \"column\": \"rating\",\n      \"properties\": {\n        \"dtype\": \"number\",\n        \"std\": 1.1443539194684442,\n        \"min\": 1.0,\n        \"max\": 5.0,\n        \"num_unique_values\": 5,\n        \"samples\": [\n          1.0,\n          4.0,\n          3.0\n        ],\n        \"semantic_type\": \"\",\n        \"description\": \"\"\n      }\n    },\n    {\n      \"column\": \"label\",\n      \"properties\": {\n        \"dtype\": \"category\",\n        \"num_unique_values\": 2,\n        \"samples\": [\n          \"OR\",\n          \"CG\"\n        ],\n        \"semantic_type\": \"\",\n        \"description\": \"\"\n      }\n    },\n    {\n      \"column\": \"text_\",\n      \"properties\": {\n        \"dtype\": \"string\",\n        \"num_unique_values\": 40382,\n        \"samples\": [\n          \"liked book review sound like written overinflated selfimportant critic particularly delve deep spiel character development narrative value know feeling like serial book offer first volume free one stop short finality finished author would realize financial gain would continue felt narrative snappy actionfilled plot line surprisingly well thoughtout zombie urban environment killing massive graphic almost neverending volume least end positive note entices reader go leaving happened feeling get cranked pulp read likely like\",\n          \"knife perfect edc great size deep clip razor sharp bottle opener need work havent used screwdriver yet really interested price steal\"\n        ],\n        \"semantic_type\": \"\",\n        \"description\": \"\"\n      }\n    }\n  ]\n}",
       "type": "dataframe",
       "variable_name": "df"
      },
      "text/html": [
       "\n",
       "  <div id=\"df-1a825bc3-9ff4-4210-a7bc-0d032277ef7c\" class=\"colab-df-container\">\n",
       "    <div>\n",
       "<style scoped>\n",
       "    .dataframe tbody tr th:only-of-type {\n",
       "        vertical-align: middle;\n",
       "    }\n",
       "\n",
       "    .dataframe tbody tr th {\n",
       "        vertical-align: top;\n",
       "    }\n",
       "\n",
       "    .dataframe thead th {\n",
       "        text-align: right;\n",
       "    }\n",
       "</style>\n",
       "<table border=\"1\" class=\"dataframe\">\n",
       "  <thead>\n",
       "    <tr style=\"text-align: right;\">\n",
       "      <th></th>\n",
       "      <th>category</th>\n",
       "      <th>rating</th>\n",
       "      <th>label</th>\n",
       "      <th>text_</th>\n",
       "    </tr>\n",
       "  </thead>\n",
       "  <tbody>\n",
       "    <tr>\n",
       "      <th>0</th>\n",
       "      <td>Home_and_Kitchen_5</td>\n",
       "      <td>5.0</td>\n",
       "      <td>CG</td>\n",
       "      <td>love well made sturdy comfortable love itvery ...</td>\n",
       "    </tr>\n",
       "    <tr>\n",
       "      <th>1</th>\n",
       "      <td>Home_and_Kitchen_5</td>\n",
       "      <td>5.0</td>\n",
       "      <td>CG</td>\n",
       "      <td>love great upgrade original ive mine couple year</td>\n",
       "    </tr>\n",
       "    <tr>\n",
       "      <th>2</th>\n",
       "      <td>Home_and_Kitchen_5</td>\n",
       "      <td>5.0</td>\n",
       "      <td>CG</td>\n",
       "      <td>pillow saved back love look feel pillow</td>\n",
       "    </tr>\n",
       "    <tr>\n",
       "      <th>3</th>\n",
       "      <td>Home_and_Kitchen_5</td>\n",
       "      <td>1.0</td>\n",
       "      <td>CG</td>\n",
       "      <td>missing information use great product price</td>\n",
       "    </tr>\n",
       "    <tr>\n",
       "      <th>4</th>\n",
       "      <td>Home_and_Kitchen_5</td>\n",
       "      <td>5.0</td>\n",
       "      <td>CG</td>\n",
       "      <td>nice set good quality set two month</td>\n",
       "    </tr>\n",
       "    <tr>\n",
       "      <th>...</th>\n",
       "      <td>...</td>\n",
       "      <td>...</td>\n",
       "      <td>...</td>\n",
       "      <td>...</td>\n",
       "    </tr>\n",
       "    <tr>\n",
       "      <th>40427</th>\n",
       "      <td>Clothing_Shoes_and_Jewelry_5</td>\n",
       "      <td>4.0</td>\n",
       "      <td>OR</td>\n",
       "      <td>read review saying bra ran small ordered two b...</td>\n",
       "    </tr>\n",
       "    <tr>\n",
       "      <th>40428</th>\n",
       "      <td>Clothing_Shoes_and_Jewelry_5</td>\n",
       "      <td>5.0</td>\n",
       "      <td>CG</td>\n",
       "      <td>wasnt sure exactly would little large small si...</td>\n",
       "    </tr>\n",
       "    <tr>\n",
       "      <th>40429</th>\n",
       "      <td>Clothing_Shoes_and_Jewelry_5</td>\n",
       "      <td>2.0</td>\n",
       "      <td>OR</td>\n",
       "      <td>wear hood wear hood wear jacket without hood s...</td>\n",
       "    </tr>\n",
       "    <tr>\n",
       "      <th>40430</th>\n",
       "      <td>Clothing_Shoes_and_Jewelry_5</td>\n",
       "      <td>1.0</td>\n",
       "      <td>CG</td>\n",
       "      <td>liked nothing dress reason gave star ordered s...</td>\n",
       "    </tr>\n",
       "    <tr>\n",
       "      <th>40431</th>\n",
       "      <td>Clothing_Shoes_and_Jewelry_5</td>\n",
       "      <td>5.0</td>\n",
       "      <td>OR</td>\n",
       "      <td>work wedding industry work long day foot outsi...</td>\n",
       "    </tr>\n",
       "  </tbody>\n",
       "</table>\n",
       "<p>40432 rows × 4 columns</p>\n",
       "</div>\n",
       "    <div class=\"colab-df-buttons\">\n",
       "\n",
       "  <div class=\"colab-df-container\">\n",
       "    <button class=\"colab-df-convert\" onclick=\"convertToInteractive('df-1a825bc3-9ff4-4210-a7bc-0d032277ef7c')\"\n",
       "            title=\"Convert this dataframe to an interactive table.\"\n",
       "            style=\"display:none;\">\n",
       "\n",
       "  <svg xmlns=\"http://www.w3.org/2000/svg\" height=\"24px\" viewBox=\"0 -960 960 960\">\n",
       "    <path d=\"M120-120v-720h720v720H120Zm60-500h600v-160H180v160Zm220 220h160v-160H400v160Zm0 220h160v-160H400v160ZM180-400h160v-160H180v160Zm440 0h160v-160H620v160ZM180-180h160v-160H180v160Zm440 0h160v-160H620v160Z\"/>\n",
       "  </svg>\n",
       "    </button>\n",
       "\n",
       "  <style>\n",
       "    .colab-df-container {\n",
       "      display:flex;\n",
       "      gap: 12px;\n",
       "    }\n",
       "\n",
       "    .colab-df-convert {\n",
       "      background-color: #E8F0FE;\n",
       "      border: none;\n",
       "      border-radius: 50%;\n",
       "      cursor: pointer;\n",
       "      display: none;\n",
       "      fill: #1967D2;\n",
       "      height: 32px;\n",
       "      padding: 0 0 0 0;\n",
       "      width: 32px;\n",
       "    }\n",
       "\n",
       "    .colab-df-convert:hover {\n",
       "      background-color: #E2EBFA;\n",
       "      box-shadow: 0px 1px 2px rgba(60, 64, 67, 0.3), 0px 1px 3px 1px rgba(60, 64, 67, 0.15);\n",
       "      fill: #174EA6;\n",
       "    }\n",
       "\n",
       "    .colab-df-buttons div {\n",
       "      margin-bottom: 4px;\n",
       "    }\n",
       "\n",
       "    [theme=dark] .colab-df-convert {\n",
       "      background-color: #3B4455;\n",
       "      fill: #D2E3FC;\n",
       "    }\n",
       "\n",
       "    [theme=dark] .colab-df-convert:hover {\n",
       "      background-color: #434B5C;\n",
       "      box-shadow: 0px 1px 3px 1px rgba(0, 0, 0, 0.15);\n",
       "      filter: drop-shadow(0px 1px 2px rgba(0, 0, 0, 0.3));\n",
       "      fill: #FFFFFF;\n",
       "    }\n",
       "  </style>\n",
       "\n",
       "    <script>\n",
       "      const buttonEl =\n",
       "        document.querySelector('#df-1a825bc3-9ff4-4210-a7bc-0d032277ef7c button.colab-df-convert');\n",
       "      buttonEl.style.display =\n",
       "        google.colab.kernel.accessAllowed ? 'block' : 'none';\n",
       "\n",
       "      async function convertToInteractive(key) {\n",
       "        const element = document.querySelector('#df-1a825bc3-9ff4-4210-a7bc-0d032277ef7c');\n",
       "        const dataTable =\n",
       "          await google.colab.kernel.invokeFunction('convertToInteractive',\n",
       "                                                    [key], {});\n",
       "        if (!dataTable) return;\n",
       "\n",
       "        const docLinkHtml = 'Like what you see? Visit the ' +\n",
       "          '<a target=\"_blank\" href=https://colab.research.google.com/notebooks/data_table.ipynb>data table notebook</a>'\n",
       "          + ' to learn more about interactive tables.';\n",
       "        element.innerHTML = '';\n",
       "        dataTable['output_type'] = 'display_data';\n",
       "        await google.colab.output.renderOutput(dataTable, element);\n",
       "        const docLink = document.createElement('div');\n",
       "        docLink.innerHTML = docLinkHtml;\n",
       "        element.appendChild(docLink);\n",
       "      }\n",
       "    </script>\n",
       "  </div>\n",
       "\n",
       "\n",
       "<div id=\"df-4ce51df1-f6c9-484a-99cf-9bb37957c8cd\">\n",
       "  <button class=\"colab-df-quickchart\" onclick=\"quickchart('df-4ce51df1-f6c9-484a-99cf-9bb37957c8cd')\"\n",
       "            title=\"Suggest charts\"\n",
       "            style=\"display:none;\">\n",
       "\n",
       "<svg xmlns=\"http://www.w3.org/2000/svg\" height=\"24px\"viewBox=\"0 0 24 24\"\n",
       "     width=\"24px\">\n",
       "    <g>\n",
       "        <path d=\"M19 3H5c-1.1 0-2 .9-2 2v14c0 1.1.9 2 2 2h14c1.1 0 2-.9 2-2V5c0-1.1-.9-2-2-2zM9 17H7v-7h2v7zm4 0h-2V7h2v10zm4 0h-2v-4h2v4z\"/>\n",
       "    </g>\n",
       "</svg>\n",
       "  </button>\n",
       "\n",
       "<style>\n",
       "  .colab-df-quickchart {\n",
       "      --bg-color: #E8F0FE;\n",
       "      --fill-color: #1967D2;\n",
       "      --hover-bg-color: #E2EBFA;\n",
       "      --hover-fill-color: #174EA6;\n",
       "      --disabled-fill-color: #AAA;\n",
       "      --disabled-bg-color: #DDD;\n",
       "  }\n",
       "\n",
       "  [theme=dark] .colab-df-quickchart {\n",
       "      --bg-color: #3B4455;\n",
       "      --fill-color: #D2E3FC;\n",
       "      --hover-bg-color: #434B5C;\n",
       "      --hover-fill-color: #FFFFFF;\n",
       "      --disabled-bg-color: #3B4455;\n",
       "      --disabled-fill-color: #666;\n",
       "  }\n",
       "\n",
       "  .colab-df-quickchart {\n",
       "    background-color: var(--bg-color);\n",
       "    border: none;\n",
       "    border-radius: 50%;\n",
       "    cursor: pointer;\n",
       "    display: none;\n",
       "    fill: var(--fill-color);\n",
       "    height: 32px;\n",
       "    padding: 0;\n",
       "    width: 32px;\n",
       "  }\n",
       "\n",
       "  .colab-df-quickchart:hover {\n",
       "    background-color: var(--hover-bg-color);\n",
       "    box-shadow: 0 1px 2px rgba(60, 64, 67, 0.3), 0 1px 3px 1px rgba(60, 64, 67, 0.15);\n",
       "    fill: var(--button-hover-fill-color);\n",
       "  }\n",
       "\n",
       "  .colab-df-quickchart-complete:disabled,\n",
       "  .colab-df-quickchart-complete:disabled:hover {\n",
       "    background-color: var(--disabled-bg-color);\n",
       "    fill: var(--disabled-fill-color);\n",
       "    box-shadow: none;\n",
       "  }\n",
       "\n",
       "  .colab-df-spinner {\n",
       "    border: 2px solid var(--fill-color);\n",
       "    border-color: transparent;\n",
       "    border-bottom-color: var(--fill-color);\n",
       "    animation:\n",
       "      spin 1s steps(1) infinite;\n",
       "  }\n",
       "\n",
       "  @keyframes spin {\n",
       "    0% {\n",
       "      border-color: transparent;\n",
       "      border-bottom-color: var(--fill-color);\n",
       "      border-left-color: var(--fill-color);\n",
       "    }\n",
       "    20% {\n",
       "      border-color: transparent;\n",
       "      border-left-color: var(--fill-color);\n",
       "      border-top-color: var(--fill-color);\n",
       "    }\n",
       "    30% {\n",
       "      border-color: transparent;\n",
       "      border-left-color: var(--fill-color);\n",
       "      border-top-color: var(--fill-color);\n",
       "      border-right-color: var(--fill-color);\n",
       "    }\n",
       "    40% {\n",
       "      border-color: transparent;\n",
       "      border-right-color: var(--fill-color);\n",
       "      border-top-color: var(--fill-color);\n",
       "    }\n",
       "    60% {\n",
       "      border-color: transparent;\n",
       "      border-right-color: var(--fill-color);\n",
       "    }\n",
       "    80% {\n",
       "      border-color: transparent;\n",
       "      border-right-color: var(--fill-color);\n",
       "      border-bottom-color: var(--fill-color);\n",
       "    }\n",
       "    90% {\n",
       "      border-color: transparent;\n",
       "      border-bottom-color: var(--fill-color);\n",
       "    }\n",
       "  }\n",
       "</style>\n",
       "\n",
       "  <script>\n",
       "    async function quickchart(key) {\n",
       "      const quickchartButtonEl =\n",
       "        document.querySelector('#' + key + ' button');\n",
       "      quickchartButtonEl.disabled = true;  // To prevent multiple clicks.\n",
       "      quickchartButtonEl.classList.add('colab-df-spinner');\n",
       "      try {\n",
       "        const charts = await google.colab.kernel.invokeFunction(\n",
       "            'suggestCharts', [key], {});\n",
       "      } catch (error) {\n",
       "        console.error('Error during call to suggestCharts:', error);\n",
       "      }\n",
       "      quickchartButtonEl.classList.remove('colab-df-spinner');\n",
       "      quickchartButtonEl.classList.add('colab-df-quickchart-complete');\n",
       "    }\n",
       "    (() => {\n",
       "      let quickchartButtonEl =\n",
       "        document.querySelector('#df-4ce51df1-f6c9-484a-99cf-9bb37957c8cd button');\n",
       "      quickchartButtonEl.style.display =\n",
       "        google.colab.kernel.accessAllowed ? 'block' : 'none';\n",
       "    })();\n",
       "  </script>\n",
       "</div>\n",
       "\n",
       "  <div id=\"id_ea5bee8d-cb6b-47cc-986b-b77dabc2d2a1\">\n",
       "    <style>\n",
       "      .colab-df-generate {\n",
       "        background-color: #E8F0FE;\n",
       "        border: none;\n",
       "        border-radius: 50%;\n",
       "        cursor: pointer;\n",
       "        display: none;\n",
       "        fill: #1967D2;\n",
       "        height: 32px;\n",
       "        padding: 0 0 0 0;\n",
       "        width: 32px;\n",
       "      }\n",
       "\n",
       "      .colab-df-generate:hover {\n",
       "        background-color: #E2EBFA;\n",
       "        box-shadow: 0px 1px 2px rgba(60, 64, 67, 0.3), 0px 1px 3px 1px rgba(60, 64, 67, 0.15);\n",
       "        fill: #174EA6;\n",
       "      }\n",
       "\n",
       "      [theme=dark] .colab-df-generate {\n",
       "        background-color: #3B4455;\n",
       "        fill: #D2E3FC;\n",
       "      }\n",
       "\n",
       "      [theme=dark] .colab-df-generate:hover {\n",
       "        background-color: #434B5C;\n",
       "        box-shadow: 0px 1px 3px 1px rgba(0, 0, 0, 0.15);\n",
       "        filter: drop-shadow(0px 1px 2px rgba(0, 0, 0, 0.3));\n",
       "        fill: #FFFFFF;\n",
       "      }\n",
       "    </style>\n",
       "    <button class=\"colab-df-generate\" onclick=\"generateWithVariable('df')\"\n",
       "            title=\"Generate code using this dataframe.\"\n",
       "            style=\"display:none;\">\n",
       "\n",
       "  <svg xmlns=\"http://www.w3.org/2000/svg\" height=\"24px\"viewBox=\"0 0 24 24\"\n",
       "       width=\"24px\">\n",
       "    <path d=\"M7,19H8.4L18.45,9,17,7.55,7,17.6ZM5,21V16.75L18.45,3.32a2,2,0,0,1,2.83,0l1.4,1.43a1.91,1.91,0,0,1,.58,1.4,1.91,1.91,0,0,1-.58,1.4L9.25,21ZM18.45,9,17,7.55Zm-12,3A5.31,5.31,0,0,0,4.9,8.1,5.31,5.31,0,0,0,1,6.5,5.31,5.31,0,0,0,4.9,4.9,5.31,5.31,0,0,0,6.5,1,5.31,5.31,0,0,0,8.1,4.9,5.31,5.31,0,0,0,12,6.5,5.46,5.46,0,0,0,6.5,12Z\"/>\n",
       "  </svg>\n",
       "    </button>\n",
       "    <script>\n",
       "      (() => {\n",
       "      const buttonEl =\n",
       "        document.querySelector('#id_ea5bee8d-cb6b-47cc-986b-b77dabc2d2a1 button.colab-df-generate');\n",
       "      buttonEl.style.display =\n",
       "        google.colab.kernel.accessAllowed ? 'block' : 'none';\n",
       "\n",
       "      buttonEl.onclick = () => {\n",
       "        google.colab.notebook.generateWithVariable('df');\n",
       "      }\n",
       "      })();\n",
       "    </script>\n",
       "  </div>\n",
       "\n",
       "    </div>\n",
       "  </div>\n"
      ],
      "text/plain": [
       "                           category  rating label  \\\n",
       "0                Home_and_Kitchen_5     5.0    CG   \n",
       "1                Home_and_Kitchen_5     5.0    CG   \n",
       "2                Home_and_Kitchen_5     5.0    CG   \n",
       "3                Home_and_Kitchen_5     1.0    CG   \n",
       "4                Home_and_Kitchen_5     5.0    CG   \n",
       "...                             ...     ...   ...   \n",
       "40427  Clothing_Shoes_and_Jewelry_5     4.0    OR   \n",
       "40428  Clothing_Shoes_and_Jewelry_5     5.0    CG   \n",
       "40429  Clothing_Shoes_and_Jewelry_5     2.0    OR   \n",
       "40430  Clothing_Shoes_and_Jewelry_5     1.0    CG   \n",
       "40431  Clothing_Shoes_and_Jewelry_5     5.0    OR   \n",
       "\n",
       "                                                   text_  \n",
       "0      love well made sturdy comfortable love itvery ...  \n",
       "1       love great upgrade original ive mine couple year  \n",
       "2                pillow saved back love look feel pillow  \n",
       "3            missing information use great product price  \n",
       "4                    nice set good quality set two month  \n",
       "...                                                  ...  \n",
       "40427  read review saying bra ran small ordered two b...  \n",
       "40428  wasnt sure exactly would little large small si...  \n",
       "40429  wear hood wear hood wear jacket without hood s...  \n",
       "40430  liked nothing dress reason gave star ordered s...  \n",
       "40431  work wedding industry work long day foot outsi...  \n",
       "\n",
       "[40432 rows x 4 columns]"
      ]
     },
     "execution_count": 2,
     "metadata": {},
     "output_type": "execute_result"
    }
   ],
   "source": [
    "df"
   ]
  },
  {
   "cell_type": "code",
   "execution_count": null,
   "metadata": {
    "colab": {
     "base_uri": "https://localhost:8080/",
     "height": 209
    },
    "executionInfo": {
     "elapsed": 377,
     "status": "ok",
     "timestamp": 1732602727425,
     "user": {
      "displayName": "msc mat",
      "userId": "05454935897048856754"
     },
     "user_tz": -330
    },
    "id": "9SYkF-jq_d_4",
    "outputId": "a429e732-befc-41db-ac87-30c2c8f250f7"
   },
   "outputs": [
    {
     "data": {
      "text/html": [
       "<div>\n",
       "<style scoped>\n",
       "    .dataframe tbody tr th:only-of-type {\n",
       "        vertical-align: middle;\n",
       "    }\n",
       "\n",
       "    .dataframe tbody tr th {\n",
       "        vertical-align: top;\n",
       "    }\n",
       "\n",
       "    .dataframe thead th {\n",
       "        text-align: right;\n",
       "    }\n",
       "</style>\n",
       "<table border=\"1\" class=\"dataframe\">\n",
       "  <thead>\n",
       "    <tr style=\"text-align: right;\">\n",
       "      <th></th>\n",
       "      <th>0</th>\n",
       "    </tr>\n",
       "  </thead>\n",
       "  <tbody>\n",
       "    <tr>\n",
       "      <th>category</th>\n",
       "      <td>0</td>\n",
       "    </tr>\n",
       "    <tr>\n",
       "      <th>rating</th>\n",
       "      <td>0</td>\n",
       "    </tr>\n",
       "    <tr>\n",
       "      <th>label</th>\n",
       "      <td>0</td>\n",
       "    </tr>\n",
       "    <tr>\n",
       "      <th>text_</th>\n",
       "      <td>1</td>\n",
       "    </tr>\n",
       "  </tbody>\n",
       "</table>\n",
       "</div><br><label><b>dtype:</b> int64</label>"
      ],
      "text/plain": [
       "category    0\n",
       "rating      0\n",
       "label       0\n",
       "text_       1\n",
       "dtype: int64"
      ]
     },
     "execution_count": 3,
     "metadata": {},
     "output_type": "execute_result"
    }
   ],
   "source": [
    "df.isnull().sum()"
   ]
  },
  {
   "cell_type": "code",
   "execution_count": null,
   "metadata": {},
   "outputs": [],
   "source": [
    "df.dropna(inplace=True) #since only one"
   ]
  },
  {
   "cell_type": "markdown",
   "metadata": {
    "id": "Cy4RuzN6VQ1j"
   },
   "source": [
    "# Best fitting model for clustering"
   ]
  },
  {
   "cell_type": "code",
   "execution_count": null,
   "metadata": {
    "colab": {
     "base_uri": "https://localhost:8080/"
    },
    "executionInfo": {
     "elapsed": 38065,
     "status": "ok",
     "timestamp": 1732722971673,
     "user": {
      "displayName": "msc mat",
      "userId": "05454935897048856754"
     },
     "user_tz": -330
    },
    "id": "7quQGDCiVQaq",
    "outputId": "18d46920-4547-4489-deda-ef59a9fce181"
   },
   "outputs": [
    {
     "name": "stdout",
     "output_type": "stream",
     "text": [
      "Clustering with Updated Parameters:\n",
      "                                                  Review  Cluster\n",
      "0      love well made sturdy comfortable love itvery ...        1\n",
      "1       love great upgrade original ive mine couple year        1\n",
      "2                pillow saved back love look feel pillow        1\n",
      "3            missing information use great product price        1\n",
      "4                    nice set good quality set two month        1\n",
      "...                                                  ...      ...\n",
      "40427  read review saying bra ran small ordered two b...        1\n",
      "40428  wasnt sure exactly would little large small si...        1\n",
      "40429  wear hood wear hood wear jacket without hood s...        1\n",
      "40430  liked nothing dress reason gave star ordered s...        1\n",
      "40431  work wedding industry work long day foot outsi...        1\n",
      "\n",
      "[40431 rows x 2 columns]\n",
      "Silhouette Score (Updated Parameters): 0.7059\n"
     ]
    }
   ],
   "source": [
    "from sklearn.feature_extraction.text import CountVectorizer\n",
    "from sklearn.decomposition import TruncatedSVD\n",
    "from sklearn.cluster import KMeans\n",
    "from sklearn.metrics import silhouette_score\n",
    "import pandas as pd\n",
    "\n",
    "# Update CountVectorizer parameters\n",
    "count_vectorizer = CountVectorizer(stop_words='english', max_features=None, ngram_range=(1, 2))\n",
    "X_count = count_vectorizer.fit_transform(df['text_'])  # Sparse matrix (do not convert to dense)\n",
    "\n",
    "# Update TruncatedSVD parameters\n",
    "svd = TruncatedSVD(n_components=10, random_state=42)  # Reduce to 10 dimensions\n",
    "X_svd = svd.fit_transform(X_count)\n",
    "\n",
    "# Update K-Means parameters\n",
    "kmeans_count = KMeans(n_clusters=5, random_state=42)\n",
    "kmeans_count.fit(X_svd)\n",
    "\n",
    "# Predict clusters\n",
    "clusters_count = kmeans_count.labels_\n",
    "\n",
    "# Display results\n",
    "df_result = pd.DataFrame({'Review': df['text_'], 'Cluster': clusters_count})\n",
    "print(\"Clustering with Updated Parameters:\")\n",
    "print(df_result)\n",
    "\n",
    "# Calculate Silhouette Score\n",
    "silhouette_avg = silhouette_score(X_svd, clusters_count)\n",
    "print(f\"Silhouette Score (Updated Parameters): {silhouette_avg:.4f}\")\n"
   ]
  },
  {
   "cell_type": "markdown",
   "metadata": {
    "id": "NuTpMHsAV6vA"
   },
   "source": [
    "# pipeline and pickling"
   ]
  },
  {
   "cell_type": "code",
   "execution_count": null,
   "metadata": {
    "colab": {
     "base_uri": "https://localhost:8080/"
    },
    "executionInfo": {
     "elapsed": 24581,
     "status": "ok",
     "timestamp": 1732723431804,
     "user": {
      "displayName": "msc mat",
      "userId": "05454935897048856754"
     },
     "user_tz": -330
    },
    "id": "Y5ykQAQlV6V2",
    "outputId": "79bcd3ba-de89-4643-efa2-6a9512834188"
   },
   "outputs": [
    {
     "name": "stdout",
     "output_type": "stream",
     "text": [
      "Pipeline has been saved to 'clustering_pipeline.pkl'.\n"
     ]
    }
   ],
   "source": [
    "from sklearn.pipeline import Pipeline\n",
    "import pandas as pd\n",
    "import pickle\n",
    "\n",
    "\n",
    "# Define the pipeline\n",
    "pipeline = Pipeline([\n",
    "    ('vectorizer', CountVectorizer(stop_words='english', max_features=None, ngram_range=(1, 2))),\n",
    "    ('svd', TruncatedSVD(n_components=10, random_state=42)),\n",
    "    ('kmeans', KMeans(n_clusters=5, random_state=42))\n",
    "])\n",
    "\n",
    "# Fit the pipeline on the text data\n",
    "pipeline.fit(df['text_'])\n",
    "\n",
    "# Save the pipeline to a file\n",
    "with open('/content/drive/MyDrive/final_project/clustering_pipeline.pkl', 'wb') as f:\n",
    "    pickle.dump(pipeline, f)\n",
    "\n",
    "print(\"Pipeline has been saved to 'clustering_pipeline.pkl'.\")"
   ]
  },
  {
   "cell_type": "markdown",
   "metadata": {},
   "source": [
    "## testing"
   ]
  },
  {
   "cell_type": "code",
   "execution_count": null,
   "metadata": {
    "colab": {
     "base_uri": "https://localhost:8080/"
    },
    "executionInfo": {
     "elapsed": 946,
     "status": "ok",
     "timestamp": 1732723581199,
     "user": {
      "displayName": "msc mat",
      "userId": "05454935897048856754"
     },
     "user_tz": -330
    },
    "id": "WivNpmlDXRlJ",
    "outputId": "fa22b534-86bc-482c-c7e5-b8aa74f6ab44"
   },
   "outputs": [
    {
     "name": "stdout",
     "output_type": "stream",
     "text": [
      "[1]\n"
     ]
    }
   ],
   "source": [
    "with open('/content/drive/MyDrive/final_project/clustering_pipeline.pkl', 'rb') as f:\n",
    "    loaded_pipeline = pickle.load(f)\n",
    "\n",
    "pred=loaded_pipeline.predict([df['text_'].iloc[10]])\n",
    "print(pred)"
   ]
  },
  {
   "cell_type": "code",
   "execution_count": 27,
   "metadata": {
    "executionInfo": {
     "elapsed": 1577,
     "status": "ok",
     "timestamp": 1732726885032,
     "user": {
      "displayName": "msc mat",
      "userId": "05454935897048856754"
     },
     "user_tz": -330
    },
    "id": "KPfK-LRAhZlg"
   },
   "outputs": [],
   "source": [
    "pip freeze > requirements.txt"
   ]
  },
  {
   "cell_type": "markdown",
   "metadata": {},
   "source": [
    "# the above model is predicted by"
   ]
  },
  {
   "cell_type": "code",
   "execution_count": null,
   "metadata": {},
   "outputs": [
    {
     "name": "stdout",
     "output_type": "stream",
     "text": [
      "Best Silhouette Score: 0.7058690046826401\n",
      "Best Parameters: {'kmeans__n_clusters': 5, 'svd__n_components': 10, 'vectorizer__max_features': None, 'vectorizer__ngram_range': (1, 2)}\n"
     ]
    }
   ],
   "source": [
    "from sklearn.feature_extraction.text import CountVectorizer\n",
    "from sklearn.decomposition import TruncatedSVD\n",
    "from sklearn.cluster import KMeans\n",
    "from sklearn.metrics import silhouette_score\n",
    "from sklearn.model_selection import ParameterGrid\n",
    "import pandas as pd\n",
    "\n",
    "# Define parameter grid\n",
    "param_grid = {\n",
    "    'vectorizer__max_features': [5000, 10000, None],\n",
    "    'vectorizer__ngram_range': [(1, 1), (1, 2)],\n",
    "    'svd__n_components': [2, 5, 10],\n",
    "    'kmeans__n_clusters': [5, 7, 10]\n",
    "}\n",
    "\n",
    "# Initialize vectorizer and dimensionality reduction\n",
    "vectorizer = CountVectorizer(stop_words='english')\n",
    "svd = TruncatedSVD(random_state=42)\n",
    "\n",
    "results = []\n",
    "\n",
    "# Manual grid search\n",
    "for params in ParameterGrid(param_grid):\n",
    "    # Set CountVectorizer parameters\n",
    "    vectorizer.set_params(\n",
    "        max_features=params['vectorizer__max_features'],\n",
    "        ngram_range=params['vectorizer__ngram_range']\n",
    "    )\n",
    "    # Transform text data\n",
    "    X_count = vectorizer.fit_transform(df['text_'])\n",
    "\n",
    "    # Set TruncatedSVD parameters\n",
    "    svd.set_params(n_components=params['svd__n_components'])\n",
    "    X_svd = svd.fit_transform(X_count)\n",
    "\n",
    "    # Set KMeans parameters and fit\n",
    "    kmeans = KMeans(n_clusters=params['kmeans__n_clusters'], random_state=42)\n",
    "    kmeans.fit(X_svd)\n",
    "    clusters = kmeans.labels_\n",
    "\n",
    "    # Calculate silhouette score\n",
    "    silhouette_avg = silhouette_score(X_svd, clusters)\n",
    "    results.append((params, silhouette_avg))\n",
    "\n",
    "# Sort results by silhouette score\n",
    "results = sorted(results, key=lambda x: x[1], reverse=True)\n",
    "\n",
    "# Display best results\n",
    "best_params, best_score = results[0]\n",
    "print(\"Best Silhouette Score:\", best_score)\n",
    "print(\"Best Parameters:\", best_params)\n"
   ]
  },
  {
   "cell_type": "markdown",
   "metadata": {},
   "source": [
    "# Other tested models"
   ]
  },
  {
   "cell_type": "code",
   "execution_count": null,
   "metadata": {
    "colab": {
     "base_uri": "https://localhost:8080/"
    },
    "executionInfo": {
     "elapsed": 14666,
     "status": "ok",
     "timestamp": 1732027491780,
     "user": {
      "displayName": "msc mat",
      "userId": "05454935897048856754"
     },
     "user_tz": -330
    },
    "id": "syhg87M82zc2",
    "outputId": "f48f3221-09fc-427c-9048-db3373381230"
   },
   "outputs": [
    {
     "name": "stdout",
     "output_type": "stream",
     "text": [
      "Top terms per cluster:\n",
      "Cluster 0:\n",
      "movie, good, acting, watch, story, great, love, film, action, like\n",
      "Cluster 1:\n",
      "book, read, story, character, series, author, enjoyed, good, reading, developed\n",
      "Cluster 2:\n",
      "fit, size, comfortable, shoe, wear, perfect, ordered, little, nice, love\n",
      "Cluster 3:\n",
      "great, work, good, like, use, little, nice, quality, product, easy\n",
      "Cluster 4:\n",
      "love, dog, toy, son, bought, great, cat, daughter, year, play\n"
     ]
    }
   ],
   "source": [
    "import pandas as pd\n",
    "from sklearn.feature_extraction.text import TfidfVectorizer\n",
    "from sklearn.cluster import KMeans\n",
    "from sklearn.decomposition import PCA\n",
    "import matplotlib.pyplot as plt\n",
    "\n",
    "# 1. Preprocess and Vectorize Text (TF-IDF Vectorizer)\n",
    "tfidf = TfidfVectorizer(stop_words='english', max_features=5000)  # You can adjust max_features\n",
    "X = tfidf.fit_transform(df[\"text_\"])\n",
    "\n",
    "# 2. Apply KMeans Clustering\n",
    "n_clusters = 5  # Assuming you want to find 2 clusters (fake vs real)\n",
    "kmeans = KMeans(n_clusters=n_clusters, random_state=42)\n",
    "kmeans.fit(X)\n",
    "\n",
    "# 3. Assign Cluster Labels to Documents\n",
    "df['Cluster'] = kmeans.labels_\n",
    "\n",
    "# 4. Analyze Topics (Top terms per cluster)\n",
    "terms = tfidf.get_feature_names_out()\n",
    "order_centroids = kmeans.cluster_centers_.argsort()[:, ::-1]\n",
    "\n",
    "print(\"Top terms per cluster:\")\n",
    "for i in range(n_clusters):\n",
    "    print(f\"Cluster {i}:\")\n",
    "    print(\", \".join([terms[ind] for ind in order_centroids[i, :10]]))  # Top 5 terms per cluster\n",
    "\n",
    "\n"
   ]
  },
  {
   "cell_type": "markdown",
   "metadata": {
    "id": "6d0LISGB_2Q-"
   },
   "source": [
    "# using CountVectorizer"
   ]
  },
  {
   "cell_type": "code",
   "execution_count": null,
   "metadata": {
    "colab": {
     "base_uri": "https://localhost:8080/"
    },
    "executionInfo": {
     "elapsed": 61335,
     "status": "ok",
     "timestamp": 1732602871531,
     "user": {
      "displayName": "msc mat",
      "userId": "05454935897048856754"
     },
     "user_tz": -330
    },
    "id": "TA5BMHE1_kdl",
    "outputId": "e81e951d-bedf-4fd9-d8af-f0d8a6ec1df2"
   },
   "outputs": [
    {
     "name": "stdout",
     "output_type": "stream",
     "text": [
      "Clustering with CountVectorizer:\n",
      "                                                  Review  Cluster\n",
      "0      love well made sturdy comfortable love itvery ...        1\n",
      "1       love great upgrade original ive mine couple year        1\n",
      "2                pillow saved back love look feel pillow        1\n",
      "3            missing information use great product price        1\n",
      "4                    nice set good quality set two month        1\n",
      "...                                                  ...      ...\n",
      "40427  read review saying bra ran small ordered two b...        2\n",
      "40428  wasnt sure exactly would little large small si...        2\n",
      "40429  wear hood wear hood wear jacket without hood s...        2\n",
      "40430  liked nothing dress reason gave star ordered s...        2\n",
      "40431  work wedding industry work long day foot outsi...        2\n",
      "\n",
      "[40431 rows x 2 columns]\n",
      "Silhouette Score (CountVectorizer): 0.3647100470007249\n"
     ]
    }
   ],
   "source": [
    "from sklearn.feature_extraction.text import CountVectorizer\n",
    "from sklearn.cluster import KMeans\n",
    "import pandas as pd\n",
    "\n",
    "# Vectorize the reviews using CountVectorizer\n",
    "count_vectorizer = CountVectorizer(stop_words='english')\n",
    "X_count = count_vectorizer.fit_transform(df['text_'])\n",
    "\n",
    "# Apply K-Means Clustering\n",
    "kmeans_count = KMeans(n_clusters=4, random_state=42)\n",
    "kmeans_count.fit(X_count)\n",
    "\n",
    "# Predict clusters\n",
    "clusters_count = kmeans_count.labels_\n",
    "\n",
    "# Display results\n",
    "df_count = pd.DataFrame({'Review': df['text_'], 'Cluster': clusters_count})\n",
    "print(\"Clustering with CountVectorizer:\")\n",
    "print(df_count)\n",
    "\n",
    "from sklearn.metrics import silhouette_score\n",
    "\n",
    "# Silhouette Scores\n",
    "sil_count = silhouette_score(X_count, clusters_count)\n",
    "print(f\"Silhouette Score (CountVectorizer): {sil_count}\")\n"
   ]
  },
  {
   "cell_type": "code",
   "execution_count": null,
   "metadata": {
    "id": "lYix3UGXLFxK"
   },
   "outputs": [],
   "source": [
    "from sklearn.feature_extraction.text import CountVectorizer\n",
    "from sklearn.decomposition import PCA\n",
    "from sklearn.cluster import KMeans\n",
    "from sklearn.metrics import silhouette_score\n",
    "import pandas as pd\n",
    "\n",
    "\n",
    "# Vectorize the reviews using CountVectorizer\n",
    "count_vectorizer = CountVectorizer(stop_words='english')\n",
    "X_count = count_vectorizer.fit_transform(df['text_']).toarray()  # Convert sparse matrix to dense\n",
    "\n",
    "# Apply PCA for dimensionality reduction\n",
    "pca = PCA(n_components=5000)  # Reduce to 2 components for visualization\n",
    "X_pca = pca.fit_transform(X_count)\n",
    "\n",
    "# Apply K-Means Clustering\n",
    "kmeans_count_pca = KMeans(n_clusters=4, random_state=42)\n",
    "kmeans_count_pca.fit(X_pca)\n",
    "\n",
    "# Predict clusters\n",
    "clusters_count_pca = kmeans_count_pca.labels_\n",
    "\n",
    "# Display results\n",
    "df_count_pca = pd.DataFrame({'Review': df['text_'], 'Cluster': clusters_count_pca})\n",
    "print(\"Clustering with CountVectorizer + PCA:\")\n",
    "print(df_count_pca)\n",
    "\n",
    "# Silhouette Score\n",
    "sil_count_pca = silhouette_score(X_pca, clusters_count_pca)\n",
    "print(f\"Silhouette Score (CountVectorizer + PCA): {sil_count_pca:.4f}\")\n"
   ]
  },
  {
   "cell_type": "markdown",
   "metadata": {
    "id": "7CsHE03rNC19"
   },
   "source": [
    "pca is not working"
   ]
  },
  {
   "cell_type": "markdown",
   "metadata": {
    "id": "c7RQLlmfNHxm"
   },
   "source": [
    "# using TruncatedSVD in kmeans with countvectorizer"
   ]
  },
  {
   "cell_type": "code",
   "execution_count": null,
   "metadata": {
    "colab": {
     "base_uri": "https://localhost:8080/"
    },
    "executionInfo": {
     "elapsed": 34859,
     "status": "ok",
     "timestamp": 1732708052370,
     "user": {
      "displayName": "msc mat",
      "userId": "05454935897048856754"
     },
     "user_tz": -330
    },
    "id": "0ASVo_vVMTl8",
    "outputId": "3f757d89-3b40-45ca-8c61-612c73bc1c62"
   },
   "outputs": [
    {
     "name": "stdout",
     "output_type": "stream",
     "text": [
      "Clustering with CountVectorizer + TruncatedSVD:\n",
      "                                                  Review  Cluster\n",
      "0      love well made sturdy comfortable love itvery ...        1\n",
      "1       love great upgrade original ive mine couple year        1\n",
      "2                pillow saved back love look feel pillow        1\n",
      "3            missing information use great product price        1\n",
      "4                    nice set good quality set two month        1\n",
      "...                                                  ...      ...\n",
      "40427  read review saying bra ran small ordered two b...        2\n",
      "40428  wasnt sure exactly would little large small si...        0\n",
      "40429  wear hood wear hood wear jacket without hood s...        2\n",
      "40430  liked nothing dress reason gave star ordered s...        0\n",
      "40431  work wedding industry work long day foot outsi...        0\n",
      "\n",
      "[40431 rows x 2 columns]\n",
      "Silhouette Score (CountVectorizer + TruncatedSVD): 0.5698\n"
     ]
    }
   ],
   "source": [
    "from sklearn.feature_extraction.text import CountVectorizer\n",
    "from sklearn.decomposition import TruncatedSVD\n",
    "from sklearn.cluster import KMeans\n",
    "from sklearn.metrics import silhouette_score\n",
    "import pandas as pd\n",
    "\n",
    "\n",
    "# Vectorize the text data using CountVectorizer\n",
    "count_vectorizer = CountVectorizer(stop_words='english')\n",
    "X_count = count_vectorizer.fit_transform(df['text_'])  # Sparse matrix (do not convert to dense)\n",
    "\n",
    "# Apply TruncatedSVD for dimensionality reduction\n",
    "svd = TruncatedSVD(n_components=2, random_state=42)  # Reduce to 2 dimensions\n",
    "X_svd = svd.fit_transform(X_count)\n",
    "\n",
    "# Apply K-Means clustering\n",
    "kmeans_count = KMeans(n_clusters=7, random_state=42)\n",
    "kmeans_count.fit(X_svd)\n",
    "\n",
    "# Predict clusters\n",
    "clusters_count = kmeans_count.labels_\n",
    "\n",
    "# Display results\n",
    "df_result = pd.DataFrame({'Review': df['text_'], 'Cluster': clusters_count})\n",
    "print(\"Clustering with CountVectorizer + TruncatedSVD:\")\n",
    "print(df_result)\n",
    "\n",
    "# Calculate Silhouette Score\n",
    "silhouette_avg = silhouette_score(X_svd, clusters_count)\n",
    "print(f\"Silhouette Score (CountVectorizer + TruncatedSVD): {silhouette_avg:.4f}\")\n"
   ]
  },
  {
   "cell_type": "code",
   "execution_count": null,
   "metadata": {
    "colab": {
     "base_uri": "https://localhost:8080/",
     "height": 940
    },
    "executionInfo": {
     "elapsed": 193838,
     "status": "ok",
     "timestamp": 1732603631542,
     "user": {
      "displayName": "msc mat",
      "userId": "05454935897048856754"
     },
     "user_tz": -330
    },
    "id": "vddDi0xNNffi",
    "outputId": "678ed58a-38a9-4ac6-b6d5-ce80d98fcde9"
   },
   "outputs": [
    {
     "name": "stdout",
     "output_type": "stream",
     "text": [
      "Number of Clusters: 2, Silhouette Score: 0.7787\n",
      "Number of Clusters: 3, Silhouette Score: 0.6466\n",
      "Number of Clusters: 4, Silhouette Score: 0.5084\n",
      "Number of Clusters: 5, Silhouette Score: 0.5679\n",
      "Number of Clusters: 6, Silhouette Score: 0.5526\n",
      "Number of Clusters: 7, Silhouette Score: 0.5698\n",
      "Number of Clusters: 8, Silhouette Score: 0.5151\n",
      "Number of Clusters: 9, Silhouette Score: 0.4937\n"
     ]
    },
    {
     "data": {
      "image/png": "[encoded data removed]",
      "text/plain": [
       "<Figure size 800x500 with 1 Axes>"
      ]
     },
     "metadata": {},
     "output_type": "display_data"
    },
    {
     "name": "stdout",
     "output_type": "stream",
     "text": [
      "Optimal Number of Clusters: 2\n",
      "Clustering with Optimal K-Means + TruncatedSVD:\n",
      "                                                  Review  Cluster\n",
      "0      love well made sturdy comfortable love itvery ...        1\n",
      "1       love great upgrade original ive mine couple year        1\n",
      "2                pillow saved back love look feel pillow        1\n",
      "3            missing information use great product price        1\n",
      "4                    nice set good quality set two month        1\n",
      "...                                                  ...      ...\n",
      "40427  read review saying bra ran small ordered two b...        1\n",
      "40428  wasnt sure exactly would little large small si...        1\n",
      "40429  wear hood wear hood wear jacket without hood s...        1\n",
      "40430  liked nothing dress reason gave star ordered s...        1\n",
      "40431  work wedding industry work long day foot outsi...        1\n",
      "\n",
      "[40431 rows x 2 columns]\n",
      "Final Silhouette Score: 0.7787\n"
     ]
    }
   ],
   "source": [
    "from sklearn.feature_extraction.text import CountVectorizer\n",
    "from sklearn.decomposition import TruncatedSVD\n",
    "from sklearn.cluster import KMeans\n",
    "from sklearn.metrics import silhouette_score\n",
    "import pandas as pd\n",
    "import matplotlib.pyplot as plt\n",
    "\n",
    "# Vectorize the text data using CountVectorizer\n",
    "count_vectorizer = CountVectorizer(stop_words='english')\n",
    "X_count = count_vectorizer.fit_transform(df['text_'])  # Sparse matrix (do not convert to dense)\n",
    "\n",
    "# Apply TruncatedSVD for dimensionality reduction\n",
    "svd = TruncatedSVD(n_components=2, random_state=42)  # Reduce to 2 dimensions\n",
    "X_svd = svd.fit_transform(X_count)\n",
    "\n",
    "# Hyperparameter tuning: Find the best number of clusters\n",
    "silhouette_scores = []\n",
    "range_n_clusters = range(2, 10)  # Try between 2 and 10 clusters\n",
    "\n",
    "for n_clusters in range_n_clusters:\n",
    "    kmeans = KMeans(n_clusters=n_clusters, random_state=42)\n",
    "    cluster_labels = kmeans.fit_predict(X_svd)\n",
    "\n",
    "    # Calculate silhouette score for the current number of clusters\n",
    "    sil_score = silhouette_score(X_svd, cluster_labels)\n",
    "    silhouette_scores.append(sil_score)\n",
    "    print(f\"Number of Clusters: {n_clusters}, Silhouette Score: {sil_score:.4f}\")\n",
    "\n",
    "# Plot silhouette scores to visualize the best cluster number\n",
    "plt.figure(figsize=(8, 5))\n",
    "plt.plot(range_n_clusters, silhouette_scores, marker='o')\n",
    "plt.title(\"Silhouette Score for Different Numbers of Clusters\")\n",
    "plt.xlabel(\"Number of Clusters\")\n",
    "plt.ylabel(\"Silhouette Score\")\n",
    "plt.grid(True)\n",
    "plt.show()\n",
    "\n",
    "# Select the best number of clusters based on silhouette score\n",
    "optimal_n_clusters = range_n_clusters[silhouette_scores.index(max(silhouette_scores))]\n",
    "print(f\"Optimal Number of Clusters: {optimal_n_clusters}\")\n",
    "\n",
    "# Apply K-Means with the optimal number of clusters\n",
    "kmeans_optimal = KMeans(n_clusters=optimal_n_clusters, random_state=42)\n",
    "clusters_optimal = kmeans_optimal.fit_predict(X_svd)\n",
    "\n",
    "# Display final results\n",
    "df_result = pd.DataFrame({'Review': df['text_'], 'Cluster': clusters_optimal})\n",
    "print(\"Clustering with Optimal K-Means + TruncatedSVD:\")\n",
    "print(df_result)\n",
    "\n",
    "# Final Silhouette Score\n",
    "final_silhouette_score = silhouette_score(X_svd, clusters_optimal)\n",
    "print(f\"Final Silhouette Score: {final_silhouette_score:.4f}\")\n"
   ]
  },
  {
   "cell_type": "markdown",
   "metadata": {
    "id": "RPqqJw2sAGAa"
   },
   "source": [
    "# with TfidfVectorizer"
   ]
  },
  {
   "cell_type": "code",
   "execution_count": null,
   "metadata": {
    "colab": {
     "base_uri": "https://localhost:8080/"
    },
    "executionInfo": {
     "elapsed": 64435,
     "status": "ok",
     "timestamp": 1732602954063,
     "user": {
      "displayName": "msc mat",
      "userId": "05454935897048856754"
     },
     "user_tz": -330
    },
    "id": "n_Gfv35S_kYe",
    "outputId": "a3a4f466-be39-460b-bfee-c12884194b1b"
   },
   "outputs": [
    {
     "name": "stdout",
     "output_type": "stream",
     "text": [
      "Clustering with TF-IDF Vectorizer:\n",
      "                                                  Review  Cluster\n",
      "0      love well made sturdy comfortable love itvery ...        3\n",
      "1       love great upgrade original ive mine couple year        3\n",
      "2                pillow saved back love look feel pillow        2\n",
      "3            missing information use great product price        2\n",
      "4                    nice set good quality set two month        2\n",
      "...                                                  ...      ...\n",
      "40427  read review saying bra ran small ordered two b...        2\n",
      "40428  wasnt sure exactly would little large small si...        3\n",
      "40429  wear hood wear hood wear jacket without hood s...        2\n",
      "40430  liked nothing dress reason gave star ordered s...        3\n",
      "40431  work wedding industry work long day foot outsi...        3\n",
      "\n",
      "[40431 rows x 2 columns]\n",
      "Silhouette Score (TF-IDF): 0.00859828809570015\n"
     ]
    }
   ],
   "source": [
    "from sklearn.feature_extraction.text import TfidfVectorizer\n",
    "\n",
    "# Vectorize the reviews using TF-IDF\n",
    "tfidf_vectorizer = TfidfVectorizer(stop_words='english')\n",
    "X_tfidf = tfidf_vectorizer.fit_transform(df['text_'])\n",
    "\n",
    "# Apply K-Means Clustering\n",
    "kmeans_tfidf = KMeans(n_clusters=4, random_state=42)\n",
    "kmeans_tfidf.fit(X_tfidf)\n",
    "\n",
    "# Predict clusters\n",
    "clusters_tfidf = kmeans_tfidf.labels_\n",
    "\n",
    "# Display results\n",
    "df_tfidf = pd.DataFrame({'Review': df['text_'], 'Cluster': clusters_tfidf})\n",
    "print(\"Clustering with TF-IDF Vectorizer:\")\n",
    "print(df_tfidf)\n",
    "\n",
    "from sklearn.metrics import silhouette_score\n",
    "\n",
    "# Silhouette Scores\n",
    "sil_tfidf = silhouette_score(X_tfidf, clusters_tfidf)\n",
    "print(f\"Silhouette Score (TF-IDF): {sil_tfidf}\")"
   ]
  },
  {
   "cell_type": "markdown",
   "metadata": {
    "id": "BYE1bzvZhRng"
   },
   "source": [
    "# tfidf-svd-review"
   ]
  },
  {
   "cell_type": "code",
   "execution_count": null,
   "metadata": {
    "colab": {
     "base_uri": "https://localhost:8080/",
     "height": 940
    },
    "executionInfo": {
     "elapsed": 185171,
     "status": "ok",
     "timestamp": 1732604201198,
     "user": {
      "displayName": "msc mat",
      "userId": "05454935897048856754"
     },
     "user_tz": -330
    },
    "id": "WXZKvulFPu2l",
    "outputId": "814c7f17-d4a7-4aaa-aec5-cbe40591beb6"
   },
   "outputs": [
    {
     "name": "stdout",
     "output_type": "stream",
     "text": [
      "Number of Clusters: 2, Silhouette Score: 0.6761\n",
      "Number of Clusters: 3, Silhouette Score: 0.4705\n",
      "Number of Clusters: 4, Silhouette Score: 0.5091\n",
      "Number of Clusters: 5, Silhouette Score: 0.4963\n",
      "Number of Clusters: 6, Silhouette Score: 0.4948\n",
      "Number of Clusters: 7, Silhouette Score: 0.4493\n",
      "Number of Clusters: 8, Silhouette Score: 0.4483\n",
      "Number of Clusters: 9, Silhouette Score: 0.4338\n"
     ]
    },
    {
     "data": {
      "image/png": "[encoded data removed]",
      "text/plain": [
       "<Figure size 800x500 with 1 Axes>"
      ]
     },
     "metadata": {},
     "output_type": "display_data"
    },
    {
     "name": "stdout",
     "output_type": "stream",
     "text": [
      "Optimal Number of Clusters: 2\n",
      "Clustering with Optimal K-Means + TruncatedSVD + TF-IDF:\n",
      "                                                  Review  Cluster\n",
      "0      love well made sturdy comfortable love itvery ...        1\n",
      "1       love great upgrade original ive mine couple year        1\n",
      "2                pillow saved back love look feel pillow        1\n",
      "3            missing information use great product price        1\n",
      "4                    nice set good quality set two month        1\n",
      "...                                                  ...      ...\n",
      "40427  read review saying bra ran small ordered two b...        1\n",
      "40428  wasnt sure exactly would little large small si...        1\n",
      "40429  wear hood wear hood wear jacket without hood s...        1\n",
      "40430  liked nothing dress reason gave star ordered s...        1\n",
      "40431  work wedding industry work long day foot outsi...        1\n",
      "\n",
      "[40431 rows x 2 columns]\n",
      "Final Silhouette Score: 0.6761\n"
     ]
    }
   ],
   "source": [
    "from sklearn.feature_extraction.text import TfidfVectorizer\n",
    "from sklearn.decomposition import TruncatedSVD\n",
    "from sklearn.cluster import KMeans\n",
    "from sklearn.metrics import silhouette_score\n",
    "import pandas as pd\n",
    "import matplotlib.pyplot as plt\n",
    "\n",
    "# Vectorize the text data using TfidfVectorizer (instead of CountVectorizer)\n",
    "tfidf_vectorizer = TfidfVectorizer(stop_words='english')\n",
    "X_tfidf = tfidf_vectorizer.fit_transform(df['text_'])  # Sparse matrix (do not convert to dense)\n",
    "\n",
    "# Apply TruncatedSVD for dimensionality reduction\n",
    "svd = TruncatedSVD(n_components=2, random_state=42)  # Reduce to 2 dimensions\n",
    "X_svd = svd.fit_transform(X_tfidf)\n",
    "\n",
    "# Hyperparameter tuning: Find the best number of clusters\n",
    "silhouette_scores = []\n",
    "range_n_clusters = range(2, 10)  # Try between 2 and 10 clusters\n",
    "\n",
    "for n_clusters in range_n_clusters:\n",
    "    kmeans = KMeans(n_clusters=n_clusters, random_state=42)\n",
    "    cluster_labels = kmeans.fit_predict(X_svd)\n",
    "\n",
    "    # Calculate silhouette score for the current number of clusters\n",
    "    sil_score = silhouette_score(X_svd, cluster_labels)\n",
    "    silhouette_scores.append(sil_score)\n",
    "    print(f\"Number of Clusters: {n_clusters}, Silhouette Score: {sil_score:.4f}\")\n",
    "\n",
    "# Plot silhouette scores to visualize the best cluster number\n",
    "plt.figure(figsize=(8, 5))\n",
    "plt.plot(range_n_clusters, silhouette_scores, marker='o')\n",
    "plt.title(\"Silhouette Score for Different Numbers of Clusters\")\n",
    "plt.xlabel(\"Number of Clusters\")\n",
    "plt.ylabel(\"Silhouette Score\")\n",
    "plt.grid(True)\n",
    "plt.show()\n",
    "\n",
    "# Select the best number of clusters based on silhouette score\n",
    "optimal_n_clusters = range_n_clusters[silhouette_scores.index(max(silhouette_scores))]\n",
    "print(f\"Optimal Number of Clusters: {optimal_n_clusters}\")\n",
    "\n",
    "# Apply K-Means with the optimal number of clusters\n",
    "kmeans_optimal = KMeans(n_clusters=optimal_n_clusters, random_state=42)\n",
    "clusters_optimal = kmeans_optimal.fit_predict(X_svd)\n",
    "\n",
    "# Display final results\n",
    "df_result = pd.DataFrame({'Review': df['text_'], 'Cluster': clusters_optimal})\n",
    "print(\"Clustering with Optimal K-Means + TruncatedSVD + TF-IDF:\")\n",
    "print(df_result)\n",
    "\n",
    "# Final Silhouette Score\n",
    "final_silhouette_score = silhouette_score(X_svd, clusters_optimal)\n",
    "print(f\"Final Silhouette Score: {final_silhouette_score:.4f}\")\n"
   ]
  },
  {
   "cell_type": "markdown",
   "metadata": {
    "id": "9PsYS8O-AMoy"
   },
   "source": [
    "# using Word2Vector"
   ]
  },
  {
   "cell_type": "code",
   "execution_count": null,
   "metadata": {
    "colab": {
     "base_uri": "https://localhost:8080/"
    },
    "executionInfo": {
     "elapsed": 65826,
     "status": "ok",
     "timestamp": 1732603019885,
     "user": {
      "displayName": "msc mat",
      "userId": "05454935897048856754"
     },
     "user_tz": -330
    },
    "id": "71Fzt6VD_kUf",
    "outputId": "6f77c477-b21c-4ce9-a7e5-3e5ffb807b30"
   },
   "outputs": [
    {
     "name": "stdout",
     "output_type": "stream",
     "text": [
      "Clustering with Word2Vec:\n",
      "                                                  Review  Cluster\n",
      "0      love well made sturdy comfortable love itvery ...        1\n",
      "1       love great upgrade original ive mine couple year        1\n",
      "2                pillow saved back love look feel pillow        3\n",
      "3            missing information use great product price        1\n",
      "4                    nice set good quality set two month        1\n",
      "...                                                  ...      ...\n",
      "40427  read review saying bra ran small ordered two b...        2\n",
      "40428  wasnt sure exactly would little large small si...        3\n",
      "40429  wear hood wear hood wear jacket without hood s...        2\n",
      "40430  liked nothing dress reason gave star ordered s...        3\n",
      "40431  work wedding industry work long day foot outsi...        2\n",
      "\n",
      "[40431 rows x 2 columns]\n",
      "Silhouette Score (Word2Vec): 0.1506938636302948\n"
     ]
    }
   ],
   "source": [
    "from gensim.models import Word2Vec\n",
    "import numpy as np\n",
    "\n",
    "# Tokenize reviews into words\n",
    "tokenized_reviews = [review.lower().split() for review in df['text_']]\n",
    "\n",
    "# Train a Word2Vec model (or use a pre-trained model like Google Word2Vec)\n",
    "word2vec_model = Word2Vec(sentences=tokenized_reviews, vector_size=100, window=5, min_count=1, workers=4)\n",
    "\n",
    "# Create document vectors by averaging word vectors\n",
    "def document_vector(doc):\n",
    "    words = [word for word in doc if word in word2vec_model.wv]\n",
    "    return np.mean([word2vec_model.wv[word] for word in words], axis=0)\n",
    "\n",
    "doc_vectors = np.array([document_vector(doc) for doc in tokenized_reviews])\n",
    "\n",
    "# Apply K-Means Clustering\n",
    "kmeans_word2vec = KMeans(n_clusters=4, random_state=42)\n",
    "kmeans_word2vec.fit(doc_vectors)\n",
    "\n",
    "# Predict clusters\n",
    "clusters_word2vec = kmeans_word2vec.labels_\n",
    "\n",
    "# Display results\n",
    "df_word2vec = pd.DataFrame({'Review': df['text_'], 'Cluster': clusters_word2vec})\n",
    "print(\"Clustering with Word2Vec:\")\n",
    "print(df_word2vec)\n",
    "\n",
    "from sklearn.metrics import silhouette_score\n",
    "\n",
    "# Silhouette Scores\n",
    "sil_word2vec = silhouette_score(doc_vectors, clusters_word2vec)\n",
    "print(f\"Silhouette Score (Word2Vec): {sil_word2vec}\")\n"
   ]
  },
  {
   "cell_type": "code",
   "execution_count": null,
   "metadata": {
    "colab": {
     "base_uri": "https://localhost:8080/",
     "height": 976
    },
    "executionInfo": {
     "elapsed": 314630,
     "status": "ok",
     "timestamp": 1732604570543,
     "user": {
      "displayName": "msc mat",
      "userId": "05454935897048856754"
     },
     "user_tz": -330
    },
    "id": "-OFEe1J6_kQp",
    "outputId": "6e9b4f79-865c-4453-db5c-832f24a0bad7"
   },
   "outputs": [
    {
     "name": "stderr",
     "output_type": "stream",
     "text": [
      "[nltk_data] Downloading package punkt to /root/nltk_data...\n",
      "[nltk_data]   Package punkt is already up-to-date!\n"
     ]
    },
    {
     "name": "stdout",
     "output_type": "stream",
     "text": [
      "Number of Clusters: 2, Silhouette Score: 0.5067\n",
      "Number of Clusters: 3, Silhouette Score: 0.4425\n",
      "Number of Clusters: 4, Silhouette Score: 0.4082\n",
      "Number of Clusters: 5, Silhouette Score: 0.3773\n",
      "Number of Clusters: 6, Silhouette Score: 0.3576\n",
      "Number of Clusters: 7, Silhouette Score: 0.3362\n",
      "Number of Clusters: 8, Silhouette Score: 0.3376\n",
      "Number of Clusters: 9, Silhouette Score: 0.3353\n"
     ]
    },
    {
     "data": {
      "image/png": "[encoded data removed]",
      "text/plain": [
       "<Figure size 800x500 with 1 Axes>"
      ]
     },
     "metadata": {},
     "output_type": "display_data"
    },
    {
     "name": "stdout",
     "output_type": "stream",
     "text": [
      "Optimal Number of Clusters: 2\n",
      "Clustering with Optimal K-Means + Word2Vec + TruncatedSVD:\n",
      "                                                  Review  Cluster\n",
      "0      love well made sturdy comfortable love itvery ...        1\n",
      "1       love great upgrade original ive mine couple year        1\n",
      "2                pillow saved back love look feel pillow        1\n",
      "3            missing information use great product price        1\n",
      "4                    nice set good quality set two month        1\n",
      "...                                                  ...      ...\n",
      "40427  read review saying bra ran small ordered two b...        1\n",
      "40428  wasnt sure exactly would little large small si...        1\n",
      "40429  wear hood wear hood wear jacket without hood s...        1\n",
      "40430  liked nothing dress reason gave star ordered s...        1\n",
      "40431  work wedding industry work long day foot outsi...        1\n",
      "\n",
      "[40431 rows x 2 columns]\n",
      "Final Silhouette Score: 0.5067\n"
     ]
    }
   ],
   "source": [
    "import gensim\n",
    "from gensim.models import Word2Vec\n",
    "from sklearn.decomposition import TruncatedSVD\n",
    "from sklearn.cluster import KMeans\n",
    "from sklearn.metrics import silhouette_score\n",
    "import pandas as pd\n",
    "import matplotlib.pyplot as plt\n",
    "import nltk\n",
    "from nltk.tokenize import word_tokenize\n",
    "nltk.download('punkt')\n",
    "\n",
    "# Preprocess text: Tokenization\n",
    "def preprocess_text(text):\n",
    "    return word_tokenize(text.lower())  # Convert text to lowercase and tokenize\n",
    "\n",
    "# Tokenize the text data\n",
    "df['tokens'] = df['text_'].apply(preprocess_text)\n",
    "\n",
    "# Train a Word2Vec model on the tokenized data\n",
    "model_w2v = Word2Vec(sentences=df['tokens'], vector_size=100, window=5, min_count=1, workers=4)\n",
    "\n",
    "# Convert each document to a vector by averaging the word vectors\n",
    "def document_to_vector(tokens, model):\n",
    "    vectors = [model.wv[word] for word in tokens if word in model.wv]\n",
    "    if vectors:\n",
    "        return sum(vectors) / len(vectors)\n",
    "    else:\n",
    "        return [0] * model.vector_size  # Return a zero vector if no words are in the vocabulary\n",
    "\n",
    "# Apply the document_to_vector function to get document vectors\n",
    "X_w2v = df['tokens'].apply(lambda tokens: document_to_vector(tokens, model_w2v)).tolist()\n",
    "\n",
    "# Convert to a DataFrame\n",
    "X_w2v = pd.DataFrame(X_w2v)\n",
    "\n",
    "# Apply TruncatedSVD for dimensionality reduction\n",
    "svd = TruncatedSVD(n_components=2, random_state=42)  # Reduce to 2 dimensions\n",
    "X_svd = svd.fit_transform(X_w2v)\n",
    "\n",
    "# Hyperparameter tuning: Find the best number of clusters\n",
    "silhouette_scores = []\n",
    "range_n_clusters = range(2, 10)  # Try between 2 and 10 clusters\n",
    "\n",
    "for n_clusters in range_n_clusters:\n",
    "    kmeans = KMeans(n_clusters=n_clusters, random_state=42)\n",
    "    cluster_labels = kmeans.fit_predict(X_svd)\n",
    "\n",
    "    # Calculate silhouette score for the current number of clusters\n",
    "    sil_score = silhouette_score(X_svd, cluster_labels)\n",
    "    silhouette_scores.append(sil_score)\n",
    "    print(f\"Number of Clusters: {n_clusters}, Silhouette Score: {sil_score:.4f}\")\n",
    "\n",
    "# Plot silhouette scores to visualize the best cluster number\n",
    "plt.figure(figsize=(8, 5))\n",
    "plt.plot(range_n_clusters, silhouette_scores, marker='o')\n",
    "plt.title(\"Silhouette Score for Different Numbers of Clusters\")\n",
    "plt.xlabel(\"Number of Clusters\")\n",
    "plt.ylabel(\"Silhouette Score\")\n",
    "plt.grid(True)\n",
    "plt.show()\n",
    "\n",
    "# Select the best number of clusters based on silhouette score\n",
    "optimal_n_clusters = range_n_clusters[silhouette_scores.index(max(silhouette_scores))]\n",
    "print(f\"Optimal Number of Clusters: {optimal_n_clusters}\")\n",
    "\n",
    "# Apply K-Means with the optimal number of clusters\n",
    "kmeans_optimal = KMeans(n_clusters=optimal_n_clusters, random_state=42)\n",
    "clusters_optimal = kmeans_optimal.fit_predict(X_svd)\n",
    "\n",
    "# Display final results\n",
    "df_result = pd.DataFrame({'Review': df['text_'], 'Cluster': clusters_optimal})\n",
    "print(\"Clustering with Optimal K-Means + Word2Vec + TruncatedSVD:\")\n",
    "print(df_result)\n",
    "\n",
    "# Final Silhouette Score\n",
    "final_silhouette_score = silhouette_score(X_svd, clusters_optimal)\n",
    "print(f\"Final Silhouette Score: {final_silhouette_score:.4f}\")\n"
   ]
  },
  {
   "cell_type": "code",
   "execution_count": null,
   "metadata": {
    "colab": {
     "base_uri": "https://localhost:8080/"
    },
    "executionInfo": {
     "elapsed": 380,
     "status": "ok",
     "timestamp": 1732604253794,
     "user": {
      "displayName": "msc mat",
      "userId": "05454935897048856754"
     },
     "user_tz": -330
    },
    "id": "prT4yU1iQq9U",
    "outputId": "802a4514-f2f6-4b71-c871-cae4b9561a67"
   },
   "outputs": [
    {
     "name": "stderr",
     "output_type": "stream",
     "text": [
      "[nltk_data] Downloading package punkt_tab to /root/nltk_data...\n",
      "[nltk_data]   Unzipping tokenizers/punkt_tab.zip.\n"
     ]
    },
    {
     "data": {
      "text/plain": [
       "True"
      ]
     },
     "execution_count": 10,
     "metadata": {},
     "output_type": "execute_result"
    }
   ],
   "source": [
    "import nltk\n",
    "nltk.download('punkt_tab')"
   ]
  },
  {
   "cell_type": "code",
   "execution_count": null,
   "metadata": {
    "colab": {
     "base_uri": "https://localhost:8080/"
    },
    "executionInfo": {
     "elapsed": 179090,
     "status": "ok",
     "timestamp": 1732550025250,
     "user": {
      "displayName": "msc mat",
      "userId": "05454935897048856754"
     },
     "user_tz": -330
    },
    "id": "y7j5lplR_kMs",
    "outputId": "376b01df-6e62-4bb1-9d2a-d3f5d5d31919"
   },
   "outputs": [
    {
     "name": "stdout",
     "output_type": "stream",
     "text": [
      "Silhouette Score (CountVectorizer): 0.3570656953818001\n",
      "Silhouette Score (TF-IDF): 0.00903058881689248\n",
      "Silhouette Score (Word2Vec): 0.10265577584505081\n"
     ]
    }
   ],
   "source": [
    "from sklearn.metrics import silhouette_score\n",
    "\n",
    "# Silhouette Scores\n",
    "sil_count = silhouette_score(X_count, clusters_count)\n",
    "sil_tfidf = silhouette_score(X_tfidf, clusters_tfidf)\n",
    "sil_word2vec = silhouette_score(doc_vectors, clusters_word2vec)\n",
    "\n",
    "print(f\"Silhouette Score (CountVectorizer): {sil_count}\")\n",
    "print(f\"Silhouette Score (TF-IDF): {sil_tfidf}\")\n",
    "print(f\"Silhouette Score (Word2Vec): {sil_word2vec}\")\n"
   ]
  },
  {
   "cell_type": "markdown",
   "metadata": {},
   "source": [
    "# DBSCAN - not working"
   ]
  },
  {
   "cell_type": "code",
   "execution_count": null,
   "metadata": {
    "id": "II14LIxvvjWp"
   },
   "outputs": [],
   "source": [
    "from sklearn.feature_extraction.text import CountVectorizer\n",
    "from sklearn.metrics.pairwise import cosine_similarity\n",
    "from sklearn.cluster import DBSCAN\n",
    "from sklearn.metrics import silhouette_score\n",
    "\n",
    "\n",
    "# Count Vectorizer\n",
    "vectorizer = CountVectorizer()\n",
    "count_matrix = vectorizer.fit_transform(df['text_']).toarray()\n",
    "\n",
    "# DBSCAN\n",
    "dbscan = DBSCAN(eps=0.5, min_samples=2, metric='cosine')\n",
    "labels = dbscan.fit_predict(count_matrix)\n",
    "\n",
    "# Silhouette Score\n",
    "if len(set(labels)) > 1:\n",
    "    silhouette_avg = silhouette_score(count_matrix, labels, metric='cosine')\n",
    "    print(f\"Silhouette Score for Count Vectorizer: {silhouette_avg:.4f}\")\n",
    "else:\n",
    "    print(\"Silhouette Score for Count Vectorizer: Not applicable (single cluster)\")\n"
   ]
  },
  {
   "cell_type": "code",
   "execution_count": null,
   "metadata": {
    "id": "5M3i6im3vjRt"
   },
   "outputs": [],
   "source": [
    "from sklearn.feature_extraction.text import TfidfVectorizer\n",
    "from sklearn.metrics.pairwise import cosine_similarity\n",
    "from sklearn.cluster import DBSCAN\n",
    "from sklearn.metrics import silhouette_score\n",
    "\n",
    "# TF-IDF Vectorizer\n",
    "tfidf_vectorizer = TfidfVectorizer()\n",
    "tfidf_matrix = tfidf_vectorizer.fit_transform(df['text_']).toarray()\n",
    "\n",
    "# DBSCAN\n",
    "dbscan = DBSCAN(eps=0.5, min_samples=2, metric='cosine')\n",
    "labels = dbscan.fit_predict(tfidf_matrix)\n",
    "\n",
    "# Silhouette Score\n",
    "if len(set(labels)) > 1:\n",
    "    silhouette_avg = silhouette_score(tfidf_matrix, labels, metric='cosine')\n",
    "    print(f\"Silhouette Score for TF-IDF: {silhouette_avg:.4f}\")\n",
    "else:\n",
    "    print(\"Silhouette Score for TF-IDF: Not applicable (single cluster)\")\n"
   ]
  },
  {
   "cell_type": "code",
   "execution_count": null,
   "metadata": {
    "id": "U8hEaLtzvjNY"
   },
   "outputs": [],
   "source": [
    "from sklearn.feature_extraction.text import CountVectorizer\n",
    "from sklearn.decomposition import PCA\n",
    "from sklearn.cluster import DBSCAN\n",
    "from sklearn.metrics import silhouette_score\n",
    "\n",
    "# Count Vectorizer\n",
    "vectorizer = CountVectorizer()\n",
    "count_matrix = vectorizer.fit_transform(df['text_']).toarray()\n",
    "\n",
    "# PCA for dimensionality reduction\n",
    "pca = PCA(n_components=2)  # Reduce to 2 dimensions for visualization\n",
    "count_pca = pca.fit_transform(count_matrix)\n",
    "\n",
    "# DBSCAN\n",
    "dbscan = DBSCAN(eps=0.5, min_samples=2, metric='euclidean')\n",
    "labels = dbscan.fit_predict(count_pca)\n",
    "\n",
    "# Silhouette Score\n",
    "if len(set(labels)) > 1:\n",
    "    silhouette_avg = silhouette_score(count_pca, labels)\n",
    "    print(f\"Silhouette Score for Count Vectorizer with PCA: {silhouette_avg:.4f}\")\n",
    "else:\n",
    "    print(\"Silhouette Score for Count Vectorizer with PCA: Not applicable (single cluster)\")\n"
   ]
  }
 ],
 "metadata": {
  "colab": {
   "authorship_tag": "ABX9TyNRi4d/aDjj8dlJQBgRmdBz",
   "mount_file_id": "1_T7YXDdau67efm_QG1zbw3HfFzFkP9Xj",
   "provenance": []
  },
  "kernelspec": {
   "display_name": "Python 3",
   "name": "python3"
  },
  "language_info": {
   "name": "python"
  }
 },
 "nbformat": 4,
 "nbformat_minor": 0
}
